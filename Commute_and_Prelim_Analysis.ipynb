{
 "cells": [
  {
   "cell_type": "code",
   "execution_count": 3,
   "metadata": {},
   "outputs": [],
   "source": [
    "import pandas as pd\n",
    "import statsmodels.api as sm\n",
    "import numpy as np\n",
    "import matplotlib.pyplot as plt"
   ]
  },
  {
   "cell_type": "code",
   "execution_count": 4,
   "metadata": {},
   "outputs": [],
   "source": [
    "df = pd.read_csv(r'C:\\Users\\rohan\\Data_Challenge_21\\UMD-Data-Challenge-21-Team-30\\Data\\Data_Lv2_NCSG_BehaviorChangesCOVID19.csv',\n",
    "                encoding='cp1252')"
   ]
  },
  {
   "cell_type": "code",
   "execution_count": 5,
   "metadata": {},
   "outputs": [],
   "source": [
    "df2 = pd.read_csv(r'C:\\Users\\rohan\\Data_Challenge_21\\UMD-Data-Challenge-21-Team-30\\Data\\dataset_urban_rural.csv',\n",
    "                encoding='cp1252')"
   ]
  },
  {
   "cell_type": "code",
   "execution_count": 35,
   "metadata": {},
   "outputs": [
    {
     "data": {
      "text/html": [
       "<div>\n",
       "<style scoped>\n",
       "    .dataframe tbody tr th:only-of-type {\n",
       "        vertical-align: middle;\n",
       "    }\n",
       "\n",
       "    .dataframe tbody tr th {\n",
       "        vertical-align: top;\n",
       "    }\n",
       "\n",
       "    .dataframe thead th {\n",
       "        text-align: right;\n",
       "    }\n",
       "</style>\n",
       "<table border=\"1\" class=\"dataframe\">\n",
       "  <thead>\n",
       "    <tr style=\"text-align: right;\">\n",
       "      <th></th>\n",
       "      <th>Unnamed: 0</th>\n",
       "      <th>Date</th>\n",
       "      <th>Time</th>\n",
       "      <th>HHState</th>\n",
       "      <th>updated_zipcode</th>\n",
       "      <th>Sex</th>\n",
       "      <th>Age</th>\n",
       "      <th>HHsize</th>\n",
       "      <th>Kids</th>\n",
       "      <th>Auto_own</th>\n",
       "      <th>...</th>\n",
       "      <th>Groc_Shp</th>\n",
       "      <th>Outside_Ac</th>\n",
       "      <th>Outside_Purp</th>\n",
       "      <th>ONL_SHP</th>\n",
       "      <th>ONL_SHP_AFTR</th>\n",
       "      <th>ruca1</th>\n",
       "      <th>zip</th>\n",
       "      <th>city</th>\n",
       "      <th>population</th>\n",
       "      <th>density</th>\n",
       "    </tr>\n",
       "  </thead>\n",
       "  <tbody>\n",
       "    <tr>\n",
       "      <td>495</td>\n",
       "      <td>495</td>\n",
       "      <td>5/27/2020</td>\n",
       "      <td>12:34:12 PM</td>\n",
       "      <td>FL</td>\n",
       "      <td>33182</td>\n",
       "      <td>1</td>\n",
       "      <td>34.0</td>\n",
       "      <td>2.0</td>\n",
       "      <td>0.0</td>\n",
       "      <td>2.0</td>\n",
       "      <td>...</td>\n",
       "      <td>3</td>\n",
       "      <td>1</td>\n",
       "      <td>NaN</td>\n",
       "      <td>2</td>\n",
       "      <td>2</td>\n",
       "      <td>1</td>\n",
       "      <td>33182</td>\n",
       "      <td>Miami</td>\n",
       "      <td>16607</td>\n",
       "      <td>416.3</td>\n",
       "    </tr>\n",
       "    <tr>\n",
       "      <td>496</td>\n",
       "      <td>496</td>\n",
       "      <td>5/26/2020</td>\n",
       "      <td>9:21:31 AM</td>\n",
       "      <td>IL</td>\n",
       "      <td>60640</td>\n",
       "      <td>2</td>\n",
       "      <td>32.0</td>\n",
       "      <td>3.0</td>\n",
       "      <td>1.0</td>\n",
       "      <td>1.0</td>\n",
       "      <td>...</td>\n",
       "      <td>3</td>\n",
       "      <td>1</td>\n",
       "      <td>NaN</td>\n",
       "      <td>1</td>\n",
       "      <td>1</td>\n",
       "      <td>1</td>\n",
       "      <td>60640</td>\n",
       "      <td>Chicago</td>\n",
       "      <td>69363</td>\n",
       "      <td>11102.5</td>\n",
       "    </tr>\n",
       "    <tr>\n",
       "      <td>497</td>\n",
       "      <td>497</td>\n",
       "      <td>4/18/2020</td>\n",
       "      <td>1:18:30 AM</td>\n",
       "      <td>TN</td>\n",
       "      <td>37042</td>\n",
       "      <td>1</td>\n",
       "      <td>32.0</td>\n",
       "      <td>2.0</td>\n",
       "      <td>0.0</td>\n",
       "      <td>2.0</td>\n",
       "      <td>...</td>\n",
       "      <td>3</td>\n",
       "      <td>1</td>\n",
       "      <td>NaN</td>\n",
       "      <td>1</td>\n",
       "      <td>3</td>\n",
       "      <td>1</td>\n",
       "      <td>37042</td>\n",
       "      <td>Clarksville</td>\n",
       "      <td>77945</td>\n",
       "      <td>493.6</td>\n",
       "    </tr>\n",
       "    <tr>\n",
       "      <td>498</td>\n",
       "      <td>498</td>\n",
       "      <td>5/15/2020</td>\n",
       "      <td>10:47:41 PM</td>\n",
       "      <td>MD</td>\n",
       "      <td>20685</td>\n",
       "      <td>2</td>\n",
       "      <td>18.0</td>\n",
       "      <td>4.0</td>\n",
       "      <td>1.0</td>\n",
       "      <td>2.0</td>\n",
       "      <td>...</td>\n",
       "      <td>3</td>\n",
       "      <td>2</td>\n",
       "      <td>Spend time with friends</td>\n",
       "      <td>1</td>\n",
       "      <td>3</td>\n",
       "      <td>2</td>\n",
       "      <td>20685</td>\n",
       "      <td>Saint Leonard</td>\n",
       "      <td>6942</td>\n",
       "      <td>120.4</td>\n",
       "    </tr>\n",
       "    <tr>\n",
       "      <td>499</td>\n",
       "      <td>499</td>\n",
       "      <td>5/26/2020</td>\n",
       "      <td>11:55:59 AM</td>\n",
       "      <td>WA</td>\n",
       "      <td>98502</td>\n",
       "      <td>2</td>\n",
       "      <td>53.0</td>\n",
       "      <td>1.0</td>\n",
       "      <td>0.0</td>\n",
       "      <td>1.0</td>\n",
       "      <td>...</td>\n",
       "      <td>3</td>\n",
       "      <td>3</td>\n",
       "      <td>meet one friend for social distance walk at ne...</td>\n",
       "      <td>2</td>\n",
       "      <td>-8</td>\n",
       "      <td>1</td>\n",
       "      <td>98502</td>\n",
       "      <td>Olympia</td>\n",
       "      <td>35018</td>\n",
       "      <td>248.7</td>\n",
       "    </tr>\n",
       "  </tbody>\n",
       "</table>\n",
       "<p>5 rows × 34 columns</p>\n",
       "</div>"
      ],
      "text/plain": [
       "     Unnamed: 0       Date         Time HHState  updated_zipcode  Sex   Age  \\\n",
       "495         495  5/27/2020  12:34:12 PM      FL            33182    1  34.0   \n",
       "496         496  5/26/2020   9:21:31 AM      IL            60640    2  32.0   \n",
       "497         497  4/18/2020   1:18:30 AM      TN            37042    1  32.0   \n",
       "498         498  5/15/2020  10:47:41 PM      MD            20685    2  18.0   \n",
       "499         499  5/26/2020  11:55:59 AM      WA            98502    2  53.0   \n",
       "\n",
       "     HHsize  Kids  Auto_own  ...  Groc_Shp  Outside_Ac  \\\n",
       "495     2.0   0.0       2.0  ...         3           1   \n",
       "496     3.0   1.0       1.0  ...         3           1   \n",
       "497     2.0   0.0       2.0  ...         3           1   \n",
       "498     4.0   1.0       2.0  ...         3           2   \n",
       "499     1.0   0.0       1.0  ...         3           3   \n",
       "\n",
       "                                          Outside_Purp  ONL_SHP  ONL_SHP_AFTR  \\\n",
       "495                                                NaN        2             2   \n",
       "496                                                NaN        1             1   \n",
       "497                                                NaN        1             3   \n",
       "498                            Spend time with friends        1             3   \n",
       "499  meet one friend for social distance walk at ne...        2            -8   \n",
       "\n",
       "     ruca1    zip           city  population  density  \n",
       "495      1  33182          Miami       16607    416.3  \n",
       "496      1  60640        Chicago       69363  11102.5  \n",
       "497      1  37042    Clarksville       77945    493.6  \n",
       "498      2  20685  Saint Leonard        6942    120.4  \n",
       "499      1  98502        Olympia       35018    248.7  \n",
       "\n",
       "[5 rows x 34 columns]"
      ]
     },
     "execution_count": 35,
     "metadata": {},
     "output_type": "execute_result"
    }
   ],
   "source": [
    "df2.tail()"
   ]
  },
  {
   "cell_type": "code",
   "execution_count": 26,
   "metadata": {},
   "outputs": [
    {
     "data": {
      "text/html": [
       "<div>\n",
       "<style scoped>\n",
       "    .dataframe tbody tr th:only-of-type {\n",
       "        vertical-align: middle;\n",
       "    }\n",
       "\n",
       "    .dataframe tbody tr th {\n",
       "        vertical-align: top;\n",
       "    }\n",
       "\n",
       "    .dataframe thead th {\n",
       "        text-align: right;\n",
       "    }\n",
       "</style>\n",
       "<table border=\"1\" class=\"dataframe\">\n",
       "  <thead>\n",
       "    <tr style=\"text-align: right;\">\n",
       "      <th></th>\n",
       "      <th>PersonID</th>\n",
       "      <th>Sex</th>\n",
       "      <th>HHsize</th>\n",
       "      <th>Kids</th>\n",
       "      <th>Auto_own</th>\n",
       "      <th>Married</th>\n",
       "      <th>Educ</th>\n",
       "      <th>HType</th>\n",
       "      <th>Worker</th>\n",
       "      <th>commute_before</th>\n",
       "      <th>...</th>\n",
       "      <th>Transmode_after</th>\n",
       "      <th>Commute_min</th>\n",
       "      <th>PhyAc_Before</th>\n",
       "      <th>Exe_Before</th>\n",
       "      <th>PhyAc_After</th>\n",
       "      <th>Exe_After</th>\n",
       "      <th>Groc_Shp</th>\n",
       "      <th>Outside_Ac</th>\n",
       "      <th>ONL_SHP</th>\n",
       "      <th>ONL_SHP_AFTR</th>\n",
       "    </tr>\n",
       "  </thead>\n",
       "  <tbody>\n",
       "    <tr>\n",
       "      <td>count</td>\n",
       "      <td>564.00000</td>\n",
       "      <td>564.000000</td>\n",
       "      <td>563.000000</td>\n",
       "      <td>563.000000</td>\n",
       "      <td>563.000000</td>\n",
       "      <td>564.000000</td>\n",
       "      <td>564.000000</td>\n",
       "      <td>564.000000</td>\n",
       "      <td>564.000000</td>\n",
       "      <td>564.000000</td>\n",
       "      <td>...</td>\n",
       "      <td>564.000000</td>\n",
       "      <td>552.000000</td>\n",
       "      <td>563.000000</td>\n",
       "      <td>564.000000</td>\n",
       "      <td>564.000000</td>\n",
       "      <td>564.000000</td>\n",
       "      <td>564.000000</td>\n",
       "      <td>564.000000</td>\n",
       "      <td>564.000000</td>\n",
       "      <td>564.000000</td>\n",
       "    </tr>\n",
       "    <tr>\n",
       "      <td>mean</td>\n",
       "      <td>282.50000</td>\n",
       "      <td>1.531915</td>\n",
       "      <td>2.813499</td>\n",
       "      <td>0.698046</td>\n",
       "      <td>1.815275</td>\n",
       "      <td>1.608156</td>\n",
       "      <td>3.810284</td>\n",
       "      <td>2.035461</td>\n",
       "      <td>1.265957</td>\n",
       "      <td>0.712766</td>\n",
       "      <td>...</td>\n",
       "      <td>-7.062057</td>\n",
       "      <td>29.570652</td>\n",
       "      <td>2.761989</td>\n",
       "      <td>2.615248</td>\n",
       "      <td>2.732270</td>\n",
       "      <td>3.593972</td>\n",
       "      <td>3.609929</td>\n",
       "      <td>2.487589</td>\n",
       "      <td>1.388298</td>\n",
       "      <td>-2.031915</td>\n",
       "    </tr>\n",
       "    <tr>\n",
       "      <td>std</td>\n",
       "      <td>162.95705</td>\n",
       "      <td>1.243402</td>\n",
       "      <td>1.321474</td>\n",
       "      <td>0.986265</td>\n",
       "      <td>1.018327</td>\n",
       "      <td>1.445519</td>\n",
       "      <td>0.414438</td>\n",
       "      <td>1.295772</td>\n",
       "      <td>0.692649</td>\n",
       "      <td>2.805560</td>\n",
       "      <td>...</td>\n",
       "      <td>3.316043</td>\n",
       "      <td>22.887528</td>\n",
       "      <td>0.943329</td>\n",
       "      <td>1.000452</td>\n",
       "      <td>1.097852</td>\n",
       "      <td>2.122375</td>\n",
       "      <td>1.315426</td>\n",
       "      <td>1.343964</td>\n",
       "      <td>1.294861</td>\n",
       "      <td>5.030180</td>\n",
       "    </tr>\n",
       "    <tr>\n",
       "      <td>min</td>\n",
       "      <td>1.00000</td>\n",
       "      <td>-9.000000</td>\n",
       "      <td>0.000000</td>\n",
       "      <td>0.000000</td>\n",
       "      <td>0.000000</td>\n",
       "      <td>-8.000000</td>\n",
       "      <td>2.000000</td>\n",
       "      <td>1.000000</td>\n",
       "      <td>1.000000</td>\n",
       "      <td>-8.000000</td>\n",
       "      <td>...</td>\n",
       "      <td>-8.000000</td>\n",
       "      <td>0.000000</td>\n",
       "      <td>1.000000</td>\n",
       "      <td>1.000000</td>\n",
       "      <td>1.000000</td>\n",
       "      <td>1.000000</td>\n",
       "      <td>1.000000</td>\n",
       "      <td>1.000000</td>\n",
       "      <td>-8.000000</td>\n",
       "      <td>-8.000000</td>\n",
       "    </tr>\n",
       "    <tr>\n",
       "      <td>25%</td>\n",
       "      <td>141.75000</td>\n",
       "      <td>1.000000</td>\n",
       "      <td>2.000000</td>\n",
       "      <td>0.000000</td>\n",
       "      <td>1.000000</td>\n",
       "      <td>1.000000</td>\n",
       "      <td>4.000000</td>\n",
       "      <td>1.000000</td>\n",
       "      <td>1.000000</td>\n",
       "      <td>1.000000</td>\n",
       "      <td>...</td>\n",
       "      <td>-8.000000</td>\n",
       "      <td>15.000000</td>\n",
       "      <td>2.000000</td>\n",
       "      <td>2.000000</td>\n",
       "      <td>2.000000</td>\n",
       "      <td>2.000000</td>\n",
       "      <td>3.000000</td>\n",
       "      <td>1.000000</td>\n",
       "      <td>1.000000</td>\n",
       "      <td>-8.000000</td>\n",
       "    </tr>\n",
       "    <tr>\n",
       "      <td>50%</td>\n",
       "      <td>282.50000</td>\n",
       "      <td>2.000000</td>\n",
       "      <td>3.000000</td>\n",
       "      <td>0.000000</td>\n",
       "      <td>2.000000</td>\n",
       "      <td>2.000000</td>\n",
       "      <td>4.000000</td>\n",
       "      <td>1.000000</td>\n",
       "      <td>1.000000</td>\n",
       "      <td>1.000000</td>\n",
       "      <td>...</td>\n",
       "      <td>-8.000000</td>\n",
       "      <td>25.000000</td>\n",
       "      <td>3.000000</td>\n",
       "      <td>3.000000</td>\n",
       "      <td>3.000000</td>\n",
       "      <td>3.000000</td>\n",
       "      <td>4.000000</td>\n",
       "      <td>3.000000</td>\n",
       "      <td>2.000000</td>\n",
       "      <td>1.000000</td>\n",
       "    </tr>\n",
       "    <tr>\n",
       "      <td>75%</td>\n",
       "      <td>423.25000</td>\n",
       "      <td>2.000000</td>\n",
       "      <td>4.000000</td>\n",
       "      <td>1.000000</td>\n",
       "      <td>2.000000</td>\n",
       "      <td>2.000000</td>\n",
       "      <td>4.000000</td>\n",
       "      <td>3.000000</td>\n",
       "      <td>1.000000</td>\n",
       "      <td>2.000000</td>\n",
       "      <td>...</td>\n",
       "      <td>-8.000000</td>\n",
       "      <td>40.000000</td>\n",
       "      <td>3.000000</td>\n",
       "      <td>3.000000</td>\n",
       "      <td>4.000000</td>\n",
       "      <td>5.000000</td>\n",
       "      <td>5.000000</td>\n",
       "      <td>4.000000</td>\n",
       "      <td>2.000000</td>\n",
       "      <td>2.000000</td>\n",
       "    </tr>\n",
       "    <tr>\n",
       "      <td>max</td>\n",
       "      <td>564.00000</td>\n",
       "      <td>2.000000</td>\n",
       "      <td>12.000000</td>\n",
       "      <td>4.000000</td>\n",
       "      <td>7.000000</td>\n",
       "      <td>3.000000</td>\n",
       "      <td>4.000000</td>\n",
       "      <td>5.000000</td>\n",
       "      <td>4.000000</td>\n",
       "      <td>3.000000</td>\n",
       "      <td>...</td>\n",
       "      <td>7.000000</td>\n",
       "      <td>180.000000</td>\n",
       "      <td>4.000000</td>\n",
       "      <td>4.000000</td>\n",
       "      <td>4.000000</td>\n",
       "      <td>7.000000</td>\n",
       "      <td>5.000000</td>\n",
       "      <td>4.000000</td>\n",
       "      <td>2.000000</td>\n",
       "      <td>3.000000</td>\n",
       "    </tr>\n",
       "  </tbody>\n",
       "</table>\n",
       "<p>8 rows × 23 columns</p>\n",
       "</div>"
      ],
      "text/plain": [
       "        PersonID         Sex      HHsize        Kids    Auto_own     Married  \\\n",
       "count  564.00000  564.000000  563.000000  563.000000  563.000000  564.000000   \n",
       "mean   282.50000    1.531915    2.813499    0.698046    1.815275    1.608156   \n",
       "std    162.95705    1.243402    1.321474    0.986265    1.018327    1.445519   \n",
       "min      1.00000   -9.000000    0.000000    0.000000    0.000000   -8.000000   \n",
       "25%    141.75000    1.000000    2.000000    0.000000    1.000000    1.000000   \n",
       "50%    282.50000    2.000000    3.000000    0.000000    2.000000    2.000000   \n",
       "75%    423.25000    2.000000    4.000000    1.000000    2.000000    2.000000   \n",
       "max    564.00000    2.000000   12.000000    4.000000    7.000000    3.000000   \n",
       "\n",
       "             Educ       HType     Worker   commute_before  ...  \\\n",
       "count  564.000000  564.000000  564.000000      564.000000  ...   \n",
       "mean     3.810284    2.035461    1.265957        0.712766  ...   \n",
       "std      0.414438    1.295772    0.692649        2.805560  ...   \n",
       "min      2.000000    1.000000    1.000000       -8.000000  ...   \n",
       "25%      4.000000    1.000000    1.000000        1.000000  ...   \n",
       "50%      4.000000    1.000000    1.000000        1.000000  ...   \n",
       "75%      4.000000    3.000000    1.000000        2.000000  ...   \n",
       "max      4.000000    5.000000    4.000000        3.000000  ...   \n",
       "\n",
       "       Transmode_after  Commute_min  PhyAc_Before  Exe_Before  PhyAc_After  \\\n",
       "count       564.000000   552.000000    563.000000  564.000000   564.000000   \n",
       "mean         -7.062057    29.570652      2.761989    2.615248     2.732270   \n",
       "std           3.316043    22.887528      0.943329    1.000452     1.097852   \n",
       "min          -8.000000     0.000000      1.000000    1.000000     1.000000   \n",
       "25%          -8.000000    15.000000      2.000000    2.000000     2.000000   \n",
       "50%          -8.000000    25.000000      3.000000    3.000000     3.000000   \n",
       "75%          -8.000000    40.000000      3.000000    3.000000     4.000000   \n",
       "max           7.000000   180.000000      4.000000    4.000000     4.000000   \n",
       "\n",
       "        Exe_After    Groc_Shp  Outside_Ac     ONL_SHP  ONL_SHP_AFTR  \n",
       "count  564.000000  564.000000  564.000000  564.000000    564.000000  \n",
       "mean     3.593972    3.609929    2.487589    1.388298     -2.031915  \n",
       "std      2.122375    1.315426    1.343964    1.294861      5.030180  \n",
       "min      1.000000    1.000000    1.000000   -8.000000     -8.000000  \n",
       "25%      2.000000    3.000000    1.000000    1.000000     -8.000000  \n",
       "50%      3.000000    4.000000    3.000000    2.000000      1.000000  \n",
       "75%      5.000000    5.000000    4.000000    2.000000      2.000000  \n",
       "max      7.000000    5.000000    4.000000    2.000000      3.000000  \n",
       "\n",
       "[8 rows x 23 columns]"
      ]
     },
     "execution_count": 26,
     "metadata": {},
     "output_type": "execute_result"
    }
   ],
   "source": [
    "df.describe()"
   ]
  },
  {
   "cell_type": "code",
   "execution_count": 90,
   "metadata": {},
   "outputs": [],
   "source": [
    "df.columns = ['PersonID', 'Date', 'Time', 'HHState', 'Zipcode', 'Sex', 'Age',\n",
    "       'HHsize', 'Kids', 'Auto_own', 'Married', 'Educ', 'HType', 'Worker',\n",
    "       'commute_before', 'commute_after', 'Transmode_before', 'changemode',\n",
    "       'Transmode_after', 'Commute_min', 'PhyAc_Before', 'Exe_Before',\n",
    "       'PhyAc_After', 'Exe_After', 'Groc_Shp', 'Outside_Ac', 'Outside_Purp',\n",
    "       'ONL_SHP', 'ONL_SHP_AFTR']"
   ]
  },
  {
   "cell_type": "code",
   "execution_count": 29,
   "metadata": {},
   "outputs": [
    {
     "data": {
      "text/html": [
       "<div>\n",
       "<style scoped>\n",
       "    .dataframe tbody tr th:only-of-type {\n",
       "        vertical-align: middle;\n",
       "    }\n",
       "\n",
       "    .dataframe tbody tr th {\n",
       "        vertical-align: top;\n",
       "    }\n",
       "\n",
       "    .dataframe thead th {\n",
       "        text-align: right;\n",
       "    }\n",
       "</style>\n",
       "<table border=\"1\" class=\"dataframe\">\n",
       "  <thead>\n",
       "    <tr style=\"text-align: right;\">\n",
       "      <th></th>\n",
       "      <th>Educ</th>\n",
       "      <th>commute_after</th>\n",
       "    </tr>\n",
       "  </thead>\n",
       "  <tbody>\n",
       "    <tr>\n",
       "      <td>Educ</td>\n",
       "      <td>1.000000</td>\n",
       "      <td>0.010569</td>\n",
       "    </tr>\n",
       "    <tr>\n",
       "      <td>commute_after</td>\n",
       "      <td>0.010569</td>\n",
       "      <td>1.000000</td>\n",
       "    </tr>\n",
       "  </tbody>\n",
       "</table>\n",
       "</div>"
      ],
      "text/plain": [
       "                   Educ  commute_after\n",
       "Educ           1.000000       0.010569\n",
       "commute_after  0.010569       1.000000"
      ]
     },
     "execution_count": 29,
     "metadata": {},
     "output_type": "execute_result"
    }
   ],
   "source": [
    "var = df[[\"Educ\", \"commute_after\"]]\n",
    "var.corr()"
   ]
  },
  {
   "cell_type": "code",
   "execution_count": 31,
   "metadata": {},
   "outputs": [
    {
     "data": {
      "image/png": "[encoded data removed]",
      "text/plain": [
       "<Figure size 432x288 with 1 Axes>"
      ]
     },
     "metadata": {
      "needs_background": "light"
     },
     "output_type": "display_data"
    }
   ],
   "source": [
    "colors = []\n",
    "i = 0\n",
    "for x in df.Educ:\n",
    "   if(x == 1):\n",
    "    colors.append('Green')\n",
    "   if(x == 2):\n",
    "    colors.append('Red')\n",
    "   if(x == 3):\n",
    "    colors.append('Blue')\n",
    "   if(x == 4):\n",
    "    colors.append('Orange')\n",
    "   if(x == -8):\n",
    "    colors.append('Black')\n",
    "\n",
    "height = df.Educ\n",
    "bars = df.commute_after\n",
    "y_pos = np.arange(len(bars))\n",
    "plt.bar(y_pos, height, color=colors)\n",
    "plt.show()\n",
    "#education level skewed because many respondents have graduate degrees"
   ]
  },
  {
   "cell_type": "code",
   "execution_count": 58,
   "metadata": {},
   "outputs": [
    {
     "data": {
      "text/plain": [
       "462"
      ]
     },
     "execution_count": 58,
     "metadata": {},
     "output_type": "execute_result"
    }
   ],
   "source": [
    "var2 = df.loc[df.Educ==4 ]\n",
    "len(var2)"
   ]
  },
  {
   "cell_type": "code",
   "execution_count": 78,
   "metadata": {},
   "outputs": [
    {
     "data": {
      "text/plain": [
       "1"
      ]
     },
     "execution_count": 78,
     "metadata": {},
     "output_type": "execute_result"
    }
   ],
   "source": [
    "var3 = df.loc[(df.Educ==2) & (df.commute_before==1) & (df.commute_after==4)]\n",
    "len(var3)"
   ]
  },
  {
   "cell_type": "code",
   "execution_count": 72,
   "metadata": {},
   "outputs": [
    {
     "data": {
      "text/plain": [
       "37"
      ]
     },
     "execution_count": 72,
     "metadata": {},
     "output_type": "execute_result"
    }
   ],
   "source": [
    "var4 = df.loc[(df.Educ==3) & (df.commute_before==1) & (df.commute_after==4)]\n",
    "len(var4)"
   ]
  },
  {
   "cell_type": "code",
   "execution_count": 73,
   "metadata": {},
   "outputs": [
    {
     "data": {
      "text/plain": [
       "169"
      ]
     },
     "execution_count": 73,
     "metadata": {},
     "output_type": "execute_result"
    }
   ],
   "source": [
    "var5 = df.loc[(df.Educ==4) & (df.commute_before==1) & (df.commute_after==4)]\n",
    "len(var5)"
   ]
  },
  {
   "cell_type": "code",
   "execution_count": 92,
   "metadata": {},
   "outputs": [
    {
     "data": {
      "text/plain": [
       "295"
      ]
     },
     "execution_count": 92,
     "metadata": {},
     "output_type": "execute_result"
    }
   ],
   "source": [
    "len(df.loc[df.commute_after==4])"
   ]
  },
  {
   "cell_type": "code",
   "execution_count": 99,
   "metadata": {},
   "outputs": [
    {
     "data": {
      "text/plain": [
       "207"
      ]
     },
     "execution_count": 99,
     "metadata": {},
     "output_type": "execute_result"
    }
   ],
   "source": [
    "len(df.loc[(df.commute_after==4) & (df.commute_before==1)])\n",
    "#people who drove to work and now telework"
   ]
  },
  {
   "cell_type": "code",
   "execution_count": 101,
   "metadata": {},
   "outputs": [
    {
     "data": {
      "text/plain": [
       "5"
      ]
     },
     "execution_count": 101,
     "metadata": {},
     "output_type": "execute_result"
    }
   ],
   "source": [
    "len(df.loc[(df.Transmode_before==3) & (df.Transmode_after==1)])\n",
    "#people who transitioned from public transport to driving cars"
   ]
  },
  {
   "cell_type": "code",
   "execution_count": 104,
   "metadata": {},
   "outputs": [
    {
     "data": {
      "text/plain": [
       "21"
      ]
     },
     "execution_count": 104,
     "metadata": {},
     "output_type": "execute_result"
    }
   ],
   "source": [
    "len(df.loc[(df.Exe_Before==4) & (df.Exe_After==3)])\n",
    "#most people prioritized the pandemic over the gym"
   ]
  },
  {
   "cell_type": "code",
   "execution_count": 106,
   "metadata": {},
   "outputs": [
    {
     "data": {
      "text/plain": [
       "101"
      ]
     },
     "execution_count": 106,
     "metadata": {},
     "output_type": "execute_result"
    }
   ],
   "source": [
    "len(df.loc[df.Transmode_before==3])"
   ]
  },
  {
   "cell_type": "code",
   "execution_count": null,
   "metadata": {},
   "outputs": [],
   "source": [
    "YVar = df[[\"Educ\"]] # we set up the dependent variable as the score of the applicant\n",
    "XVar = df[[\"co\", \"gpa\"]] # we now use two dependent variables including credits and gpa\n",
    "LinearModel = sm.OLS(YVar, XVar).fit() # this creates the linear model\n",
    "print(LinearModel.summary())"
   ]
  },
  {
   "cell_type": "code",
   "execution_count": 46,
   "metadata": {},
   "outputs": [
    {
     "data": {
      "text/plain": [
       "count     564\n",
       "unique     42\n",
       "top        MD\n",
       "freq      144\n",
       "Name: HHState, dtype: object"
      ]
     },
     "execution_count": 46,
     "metadata": {},
     "output_type": "execute_result"
    }
   ],
   "source": [
    "df.HHState.describe()"
   ]
  },
  {
   "cell_type": "code",
   "execution_count": 55,
   "metadata": {},
   "outputs": [
    {
     "name": "stdout",
     "output_type": "stream",
     "text": [
      "['CO' 'MI' 'CA' 'MD' 'PA' 'NV' 'NC' 'MS' 'NJ' 'OR' 'TX' 'WA' 'VA' 'MA'\n",
      " 'KS' 'SC' 'DC' 'DE' 'ME' 'NY' 'IL' 'MN' 'FL ' 'FL' 'TN' 'NH' 'WI' 'IA'\n",
      " 'MO' 'OH' 'ID' 'AZ' 'AL' 'GA' 'CT' 'AR' 'IN' 'OK' 'NM' 'UT' 'Tx' 'NY ']\n",
      "[12, 11, 51, 144, 24, 3, 3, 3, 19, 11, 14, 53, 30, 20, 2, 3, 23, 12, 13, 21, 10, 3, 18, 3, 4, 2, 4, 3, 1, 7, 1, 7, 3, 8, 5, 2, 5, 1, 1, 2, 1, 1]\n"
     ]
    }
   ],
   "source": [
    "states = df.HHState.unique()\n",
    "print (states)\n",
    "frequency = []\n",
    "for state in states:\n",
    "    frequency.append(len(df.loc[df.HHState==state]))\n",
    "print (frequency)"
   ]
  },
  {
   "cell_type": "code",
   "execution_count": 105,
   "metadata": {},
   "outputs": [
    {
     "data": {
      "image/png": "[encoded data removed]",
      "text/plain": [
       "<Figure size 432x288 with 1 Axes>"
      ]
     },
     "metadata": {},
     "output_type": "display_data"
    }
   ],
   "source": [
    "\n",
    "# Pie chart, where the slices will be ordered and plotted counter-clockwise:\n",
    "labels = states\n",
    "sizes = frequency\n",
    "#explode = (0, 0.1, 0, 0)  # only \"explode\" the 2nd slice (i.e. 'Hogs')\n",
    "\n",
    "fig1, ax1 = plt.subplots()\n",
    "ax1.pie(sizes, labels=labels, #autopct='%1.1f%%',\n",
    "        shadow=True, startangle=90)\n",
    "ax1.axis('equal')  # Equal aspect ratio ensures that pie is drawn as a circle.\n",
    "\n",
    "plt.show()"
   ]
  },
  {
   "cell_type": "code",
   "execution_count": 88,
   "metadata": {},
   "outputs": [
    {
     "data": {
      "text/plain": [
       "Index(['PersonID', 'Date', 'Time', 'HHState', 'Zipcode', 'Sex', 'Age',\n",
       "       'HHsize', 'Kids', 'Auto_own', 'Married', 'Educ', 'HType', 'Worker ',\n",
       "       'commute_before', 'commute_after', 'Transmode_before', 'changemode',\n",
       "       'Transmode_after', 'Commute_min', 'PhyAc_Before', 'Exe_Before',\n",
       "       'PhyAc_After', 'Exe_After', 'Groc_Shp', 'Outside_Ac', 'Outside_Purp',\n",
       "       'ONL_SHP', 'ONL_SHP_AFTR'],\n",
       "      dtype='object')"
      ]
     },
     "execution_count": 88,
     "metadata": {},
     "output_type": "execute_result"
    }
   ],
   "source": []
  },
  {
   "cell_type": "code",
   "execution_count": 120,
   "metadata": {},
   "outputs": [
    {
     "data": {
      "text/plain": [
       "258"
      ]
     },
     "execution_count": 120,
     "metadata": {},
     "output_type": "execute_result"
    }
   ],
   "source": [
    "ar = df.loc[(df.Exe_After==3) & (df.Transmode_after==-8)]\n",
    "ar2 = df.loc[(df.Exe_After==2) & (df.Transmode_after==-8)]\n",
    "ar3 = df.loc[(df.Exe_After==7) & (df.Transmode_after==-8)]\n",
    "len(ar)+len(ar2)+len(ar3)"
   ]
  },
  {
   "cell_type": "code",
   "execution_count": 130,
   "metadata": {},
   "outputs": [
    {
     "data": {
      "text/plain": [
       "77"
      ]
     },
     "execution_count": 130,
     "metadata": {},
     "output_type": "execute_result"
    }
   ],
   "source": [
    "change = df.loc[(df.Exe_Before!=1) & (df.Exe_After==1)]\n",
    "len(change)"
   ]
  },
  {
   "cell_type": "code",
   "execution_count": 131,
   "metadata": {},
   "outputs": [
    {
     "data": {
      "text/plain": [
       "71"
      ]
     },
     "execution_count": 131,
     "metadata": {},
     "output_type": "execute_result"
    }
   ],
   "source": [
    "change = df.loc[(df.Exe_Before!=1) & (df.Exe_After==1) & (df.Transmode_after==-8) ]\n",
    "len(change)"
   ]
  },
  {
   "cell_type": "code",
   "execution_count": 138,
   "metadata": {},
   "outputs": [
    {
     "data": {
      "text/plain": [
       "count    522.000000\n",
       "mean      31.097701\n",
       "std       22.508604\n",
       "min        0.000000\n",
       "25%       15.000000\n",
       "50%       30.000000\n",
       "75%       40.000000\n",
       "max      180.000000\n",
       "Name: Commute_min, dtype: float64"
      ]
     },
     "execution_count": 138,
     "metadata": {},
     "output_type": "execute_result"
    }
   ],
   "source": [
    "df.loc[(df.Transmode_before!=-8)].Commute_min.describe()"
   ]
  },
  {
   "cell_type": "code",
   "execution_count": 151,
   "metadata": {
    "scrolled": true
   },
   "outputs": [
    {
     "data": {
      "text/plain": [
       "101"
      ]
     },
     "execution_count": 151,
     "metadata": {},
     "output_type": "execute_result"
    }
   ],
   "source": [
    "len(df.loc[df.Transmode_before==3])"
   ]
  },
  {
   "cell_type": "code",
   "execution_count": 150,
   "metadata": {},
   "outputs": [
    {
     "data": {
      "text/plain": [
       "0"
      ]
     },
     "execution_count": 150,
     "metadata": {},
     "output_type": "execute_result"
    }
   ],
   "source": [
    "len(df.loc[df.Transmode_after==3])"
   ]
  },
  {
   "cell_type": "code",
   "execution_count": 149,
   "metadata": {},
   "outputs": [],
   "source": [
    "var = [1.735,1.694,1.655,1.68,1.75,1.776,1.87,1.883,1.947,2.017,2.048,2.094,2.1]\n",
    "#fuel prices from April 2020 - July 2020"
   ]
  },
  {
   "cell_type": "code",
   "execution_count": 154,
   "metadata": {},
   "outputs": [
    {
     "name": "stdout",
     "output_type": "stream",
     "text": [
      "Index(['Unnamed: 0', 'Date', 'Time', 'HHState', 'updated_zipcode', 'Sex',\n",
      "       'Age', 'HHsize', 'Kids', 'Auto_own', 'Married', 'Educ', 'HType',\n",
      "       'Worker', 'commute_before', 'commute_after', 'Transmode_before',\n",
      "       'changemode', 'Transmode_after', 'Commute_min', 'PhyAc_Before',\n",
      "       'Exe_Before', 'PhyAc_After', 'Exe_After', 'Groc_Shp', 'Outside_Ac',\n",
      "       'Outside_Purp', 'ONL_SHP', 'ONL_SHP_AFTR', 'ruca1', 'zip', 'city',\n",
      "       'population', 'density'],\n",
      "      dtype='object')\n"
     ]
    }
   ],
   "source": [
    "print (df2.columns)"
   ]
  },
  {
   "cell_type": "code",
   "execution_count": 155,
   "metadata": {},
   "outputs": [
    {
     "name": "stdout",
     "output_type": "stream",
     "text": [
      "0             Golden\n",
      "2          San Diego\n",
      "6          Bethlehem\n",
      "7         Myersville\n",
      "8         Myersville\n",
      "           ...      \n",
      "493         Syracuse\n",
      "494        Patchogue\n",
      "495            Miami\n",
      "498    Saint Leonard\n",
      "499          Olympia\n",
      "Name: city, Length: 314, dtype: object\n"
     ]
    }
   ],
   "source": [
    "print (df2.loc[df2.commute_before==1].city)"
   ]
  },
  {
   "cell_type": "code",
   "execution_count": 28,
   "metadata": {},
   "outputs": [
    {
     "name": "stdout",
     "output_type": "stream",
     "text": [
      "229\n",
      "[['Golden', 2, 0], ['Whitmore Lake', 1, 0], ['San Diego', 3, 1], ['Baltimore', 9, 0], ['Hyattsville', 3, 0], ['Bethlehem', 1, 0], ['Myersville', 2, 0], ['Reno', 1, 0], ['Cary', 0, 0], ['Starkville', 2, 0], ['Bethesda', 10, 2], ['Portland', 2, 1], ['Santa Monica', 2, 1], ['Austin', 2, 0], ['Seattle', 19, 0], ['Vienna', 2, 0], ['Lawrence', 1, 0], ['Columbia', 9, 1], ['Arlington', 6, 0], ['Dallas', 2, 0], ['Washington', 3, 0], ['Dublin', 0, 1], ['New Freedom', 1, 0], ['Los Alamitos', 1, 0], ['Kirkland', 4, 0], ['McLean', 3, 1], ['Durango', 1, 0], ['Gaithersburg', 7, 0], ['College Station', 1, 0], ['Laurel', 2, 0], ['Wilmington', 1, 0], ['Brighton', 0, 0], ['Philadelphia', 2, 0], ['Silver Spring', 9, 0], ['Marriottsville', 0, 0], ['Las Vegas', 1, 0], ['Los Altos', 2, 0], ['New York', 0, 0], ['Champaign', 1, 0], ['Suffern', 1, 0], ['Happy Valley', 1, 0], ['Coppell', 1, 0], ['Mankato', 1, 0], ['Odenton', 1, 0], ['Miami', 4, 1], ['Bowie', 4, 0], ['Tallahassee', 2, 0], ['Lancaster', 1, 0], ['Los Angeles', 2, 0], ['College Park', 6, 0], ['North East', 1, 0], ['Denver', 1, 0], ['Newark', 8, 0], ['Sarasota', 3, 0], ['Raleigh', 1, 0], ['Altamonte Springs', 1, 0], ['San Francisco', 2, 0], ['Safety Harbor', 0, 0], ['Memphis', 0, 0], ['Rockville', 5, 0], ['Chicago', 0, 0], ['Warren', 1, 0], ['Roseville', 0, 0], ['Ocean City', 1, 0], ['Houston', 1, 1], ['Ann Arbor', 2, 1], ['Boulder', 0, 0], ['Panama City Beach', 1, 0], ['Wheat Ridge', 0, 0], ['Towson', 2, 0], ['Slinger', 1, 0], ['Santa Cruz', 0, 0], ['Sterling', 2, 0], ['Waterloo', 1, 0], ['La Plata', 2, 0], ['Annapolis', 3, 0], ['Kirksville', 0, 0], ['San Bruno', 0, 0], ['Lansing', 1, 0], ['Allentown', 1, 0], ['Montgomery Village', 1, 0], ['Potomac', 4, 0], ['San Dimas', 0, 1], ['Greenbelt', 0, 0], ['Nashville', 1, 0], ['Fernley', 1, 0], ['Okemos', 1, 0], ['Columbus', 2, 0], ['Boyds', 0, 0], ['Brooklyn', 1, 0], ['Nampa', 1, 0], ['Frederick', 3, 1], ['Galloway', 1, 0], ['La Honda', 1, 0], ['Manhattan', 0, 0], ['Tustin', 1, 0], ['Hercules', 1, 0], ['Mountain View', 1, 0], ['Chantilly', 1, 0], ['Oakland', 0, 0], ['Bettendorf', 1, 0], ['Buffalo', 1, 0], ['Madison', 1, 0], ['Riverdale', 0, 0], ['Crownsville', 1, 0], ['Chandler', 1, 0], ['Bothell', 2, 0], ['Upper Marlboro', 1, 0], ['Savoy', 1, 0], ['La Center', 1, 0], ['Friendswood', 0, 0], ['Takoma Park', 0, 1], ['Concord', 1, 0], ['Fresno', 0, 0], ['Mobile', 1, 0], ['Atlanta', 2, 0], ['Owings Mills', 1, 0], ['Reston', 1, 0], ['Fayetteville', 2, 0], ['Indianapolis', 1, 0], ['Derwood', 0, 0], ['Arvada', 1, 0], ['Cape Coral', 1, 0], ['Peachtree City', 0, 0], ['Charlestown', 1, 0], ['Alexandria', 2, 0], ['Charlottesville', 0, 0], ['Norman', 1, 0], ['Flagstaff', 1, 0], ['Beltsville', 1, 0], ['Blacksburg', 3, 0], ['Lutz', 1, 0], ['Lutherville Timonium', 2, 0], ['Albany', 1, 0], ['Gresham', 1, 0], ['Newnan', 1, 0], ['Fort Collins', 1, 0], ['Berkeley', 1, 0], ['Fulton', 1, 0], ['Corrales', 1, 0], ['Chula Vista', 1, 0], ['Bellevue', 0, 0], ['Deerfield', 0, 0], ['Lynnwood', 0, 0], ['Newtown', 1, 0], ['Pittsburgh', 0, 0], ['Lanham', 1, 0], ['Oxford', 1, 0], ['Tucson', 2, 0], ['Delaware', 2, 0], ['West Jordan', 1, 0], ['Minneapolis', 1, 0], ['Glen Burnie', 0, 0], ['Naperville', 1, 0], ['Fort Lauderdale', 0, 0], ['Avondale', 1, 0], ['Fairfax Station', 1, 1], ['Haverford', 1, 0], ['Rising Sun', 1, 0], ['Oakton', 1, 0], ['Media', 1, 0], ['Perryville', 1, 0], ['Tampa', 2, 0], ['Winter Garden', 1, 0], ['Phoenix', 0, 0], ['Milwaukee', 1, 0], ['Arnold', 1, 0], ['Lafayette', 0, 0], ['Selinsgrove', 1, 0], ['Alameda', 0, 0], ['Falls Church', 1, 0], ['San Mateo', 0, 0], ['Lombard', 1, 0], ['Sacramento', 1, 1], ['Tempe', 0, 0], ['Redwood City', 0, 0], ['Redmond', 0, 0], ['Marietta', 0, 0], ['San Jose', 1, 0], ['Woodinville', 1, 0], ['Alfred', 1, 0], ['West Lafayette', 3, 0], ['Irvine', 1, 0], ['Burke', 1, 0], ['Fairfax', 1, 0], ['Avondale Estates', 1, 0], ['Big Pine', 1, 0], ['Bedford', 1, 0], ['Logan', 0, 0], ['Foothill Ranch', 2, 0], ['Poughkeepsie', 1, 0], ['Sherman Oaks', 1, 0], ['Roswell', 0, 0], ['San Antonio', 1, 0], ['Parkesburg', 1, 1], ['Halethorpe', 1, 0], ['Charlotte', 1, 0], ['Manlius', 1, 0], ['Bryans Road', 1, 0], ['Pickerington', 1, 0], ['Fremont', 0, 0], ['Harrisburg', 1, 0], ['Kissimmee', 0, 0], ['Everett', 1, 0], ['East Lansing', 1, 0], ['Narberth', 0, 0], ['Buckeye', 1, 0], ['Bloomfield Hills', 1, 0], ['Beaverton', 1, 0], ['Forest Hills', 0, 0], ['Bellmore', 1, 0], ['Kensington', 1, 0], ['Clovis', 0, 0], ['Ocoee', 0, 0], ['San Leandro', 0, 0], ['Plymouth', 1, 0], ['Eugene', 0, 0], ['Glenside', 0, 0], ['Ellicott City', 1, 0], ['Saint Bonifacius', 0, 0], ['Auburn', 0, 0], ['Waldorf', 1, 0], ['Shrewsbury', 1, 0], ['East Greenbush', 1, 0], ['Syracuse', 0, 0], ['Patchogue', 1, 0], ['Clarksville', 0, 0], ['Saint Leonard', 0, 0], ['Olympia', 0, 0]]\n"
     ]
    }
   ],
   "source": [
    "cities = df2.city.unique()\n",
    "#print (cities)\n",
    "print(len(cities))\n",
    "frequency = []\n",
    "for city in cities:\n",
    "    frequency.append(len(df2.loc[df2.city==city]))\n",
    "num_drivers = []\n",
    "for city in cities:\n",
    "    num_drivers.append([city, len(df2.loc[(df2.Transmode_before==1)&(df2.city==city)]),len(df2.loc[(df2.Transmode_after==1)&(df2.city==city)]),(sum(df2.loc[df2.Commute_min])/len(df2.loc[df2.Commute_min]))])\n",
    "print(num_drivers)"
   ]
  },
  {
   "cell_type": "code",
   "execution_count": 39,
   "metadata": {},
   "outputs": [
    {
     "name": "stdout",
     "output_type": "stream",
     "text": [
      "308\n",
      "12\n",
      "93\n",
      "31\n",
      "21\n",
      "5\n",
      "5\n",
      "25\n"
     ]
    }
   ],
   "source": [
    "print(len(df2.loc[df2.Transmode_before==1]))\n",
    "print(len(df2.loc[df2.Transmode_before==2]))\n",
    "print(len(df2.loc[df2.Transmode_before==3]))\n",
    "print(len(df2.loc[df2.Transmode_before==4]))\n",
    "print(len(df2.loc[df2.Transmode_before==5]))\n",
    "print(len(df2.loc[df2.Transmode_before==6]))\n",
    "print(len(df2.loc[df2.Transmode_before==7]))\n",
    "print(len(df2.loc[df2.Transmode_before==-8]))"
   ]
  },
  {
   "cell_type": "code",
   "execution_count": 34,
   "metadata": {},
   "outputs": [
    {
     "data": {
      "text/plain": [
       "17"
      ]
     },
     "execution_count": 34,
     "metadata": {},
     "output_type": "execute_result"
    }
   ],
   "source": [
    "len(df2.loc[df2.Transmode_after==1])"
   ]
  },
  {
   "cell_type": "code",
   "execution_count": 44,
   "metadata": {},
   "outputs": [
    {
     "name": "stdout",
     "output_type": "stream",
     "text": [
      "     Unnamed: 0       Date         Time HHState  updated_zipcode  Sex   Age  \\\n",
      "10           10  5/20/2020   1:37:28 PM      NC            27513    2  58.0   \n",
      "22           22  4/11/2020  10:02:39 AM      MD            20817    2  35.0   \n",
      "23           23  5/12/2020   9:18:59 AM      MD            20817   -9  27.0   \n",
      "33           33  4/10/2020   6:47:39 PM      WA            98105    2  29.0   \n",
      "34           34  4/11/2020   2:09:44 AM      WA            98105    2  29.0   \n",
      "36           36  4/23/2020   2:35:34 AM      VA            22182    2  37.0   \n",
      "61           61  5/28/2020  12:55:30 AM      MD            20878    2  30.0   \n",
      "67           67  5/12/2020  11:25:24 PM      MI            48114    2  75.0   \n",
      "78           78  5/12/2020  12:42:34 PM      DC            20010    2  30.0   \n",
      "80           80  5/19/2020   2:03:12 PM      CA            94024    2  79.0   \n",
      "86           86  4/10/2020   9:02:06 PM      MD            20879    2  31.0   \n",
      "109         109  5/12/2020   6:28:16 PM      PA            17601    2  26.0   \n",
      "182         182  4/12/2020  10:40:21 PM      MD            21286    2  29.0   \n",
      "194         194  5/15/2020   3:40:47 AM      CA            94066    2  25.0   \n",
      "211         211  5/18/2020  10:54:07 PM      CO            80301    1  62.0   \n",
      "225         225  5/18/2020  10:21:44 PM      NY            11231    1  75.0   \n",
      "265         265  5/27/2020   9:32:30 PM      PA            19130    2  25.0   \n",
      "287         287  4/23/2020   9:18:58 AM      MD            20855    2  38.0   \n",
      "290         290  5/12/2020   9:34:32 AM      MD            20816    2  22.0   \n",
      "329         329  5/12/2020  11:41:08 AM      IL            60015    2  23.0   \n",
      "366         366  5/12/2020  10:42:06 AM      PA            19041    2  71.0   \n",
      "369         369  4/23/2020  11:17:14 AM      VA            22310    2  56.0   \n",
      "416         416  4/12/2020   9:00:27 AM      VA            22015    2  38.0   \n",
      "432         432  5/12/2020  11:14:10 AM      CA            92105    2  46.0   \n",
      "451         451  4/12/2020   4:40:22 PM      TX            75206    2  39.0   \n",
      "452         452  5/12/2020  11:49:34 AM      FL            34743    2  54.0   \n",
      "453         453  4/19/2020   2:51:50 PM      WA            98208    2  57.0   \n",
      "455         455  5/12/2020  11:40:45 AM      NY            10026    2  22.0   \n",
      "478         478  4/12/2020   7:58:09 AM      TX            77054    2  35.0   \n",
      "479         479  5/12/2020  11:44:07 AM      PA            19038    2  52.0   \n",
      "497         497  4/18/2020   1:18:30 AM      TN            37042    1  32.0   \n",
      "\n",
      "     HHsize  Kids  Auto_own  ...  Groc_Shp  Outside_Ac  \\\n",
      "10      3.0   0.0       2.0  ...         5           4   \n",
      "22      4.0   2.0       2.0  ...         4           1   \n",
      "23      6.0   1.0       3.0  ...         2           1   \n",
      "33      2.0   0.0       1.0  ...         3           1   \n",
      "34      3.0   1.0       1.0  ...         2           4   \n",
      "36      3.0   1.0       1.0  ...         5           1   \n",
      "61      7.0   2.0       3.0  ...         5           1   \n",
      "67      2.0   0.0       2.0  ...         3           1   \n",
      "78      2.0   0.0       1.0  ...         4           4   \n",
      "80      2.0   0.0       2.0  ...         4           1   \n",
      "86      3.0   2.0       2.0  ...         4           1   \n",
      "109     2.0   0.0       2.0  ...         5           4   \n",
      "182     2.0   0.0       2.0  ...         3           2   \n",
      "194     4.0   0.0       2.0  ...         4           1   \n",
      "211     1.0   0.0       1.0  ...         4           3   \n",
      "225     2.0   0.0       0.0  ...         1           1   \n",
      "265     2.0   0.0       1.0  ...         5           4   \n",
      "287     3.0   1.0       1.0  ...         2           1   \n",
      "290     3.0   0.0       3.0  ...         2           1   \n",
      "329     6.0   1.0       3.0  ...         1           4   \n",
      "366     1.0   0.0       1.0  ...         5           4   \n",
      "369     3.0   0.0       2.0  ...         4           3   \n",
      "416     3.0   1.0       2.0  ...         3           4   \n",
      "432     4.0   2.0       2.0  ...         3           1   \n",
      "451     4.0   2.0       1.0  ...         4           1   \n",
      "452     2.0   0.0       1.0  ...         4           1   \n",
      "453     4.0   1.0       2.0  ...         4           1   \n",
      "455     4.0   0.0       1.0  ...         4           3   \n",
      "478     3.0   1.0       2.0  ...         1           3   \n",
      "479     3.0   1.0       2.0  ...         2           4   \n",
      "497     2.0   0.0       2.0  ...         3           1   \n",
      "\n",
      "                                          Outside_Purp  ONL_SHP  ONL_SHP_AFTR  \\\n",
      "10   Get automobile inspected, visit friends on fro...        1             2   \n",
      "22                                                 NaN        2            -8   \n",
      "23                                                 NaN        1             3   \n",
      "33                                                 NaN        2            -8   \n",
      "34                            Going to park for a walk        2            -8   \n",
      "36                                                 NaN        2            -8   \n",
      "61                                                 NaN        2            -8   \n",
      "67                                                 NaN        2            -8   \n",
      "78   I have gone back and forth to a house with lan...        1             3   \n",
      "80                                                 NaN        2            -8   \n",
      "86                                                 NaN        2            -8   \n",
      "109                           Help mother with laundry        1             1   \n",
      "182                                                NaN        1             1   \n",
      "194                                                NaN        2             2   \n",
      "211                                    social activism        1             2   \n",
      "225                                                NaN        1             1   \n",
      "265                                                NaN        2             3   \n",
      "287                                                NaN        1             3   \n",
      "290                                                NaN        2            -8   \n",
      "329                                              Fun r        2             2   \n",
      "366       Visit family members and care for grandchild        2            -8   \n",
      "369                               Going to my daughter        2            -8   \n",
      "416                               Running, walking dog        2             2   \n",
      "432                                                NaN        1             3   \n",
      "451                                                NaN        2            -8   \n",
      "452                                                NaN        2            -8   \n",
      "453                                                NaN        1             3   \n",
      "455  I had to get refills for my medication. I also...       -8             3   \n",
      "478                                       Just driving        1             2   \n",
      "479  Just driving around. Once taking my Dad to a d...        2            -8   \n",
      "497                                                NaN        1             3   \n",
      "\n",
      "     ruca1    zip          city  population  density  \n",
      "10       1  27513          Cary       45542   1112.5  \n",
      "22       1  20817      Bethesda       37315   1037.4  \n",
      "23       1  20817      Bethesda       37315   1037.4  \n",
      "33       1  98105       Seattle       50434   4717.7  \n",
      "34       1  98105       Seattle       50434   4717.7  \n",
      "36       1  22182        Vienna       26124    857.0  \n",
      "61       1  20878  Gaithersburg       63030   1110.7  \n",
      "67       2  48114      Brighton       21177    247.4  \n",
      "78       1  20010    Washington       34223  12207.4  \n",
      "80       1  94024     Los Altos       23675   1249.8  \n",
      "86       1  20879  Gaithersburg       26164   1317.1  \n",
      "109      1  17601     Lancaster       52552    609.0  \n",
      "182      1  21286        Towson       19849    898.4  \n",
      "194      1  94066     San Bruno       43101   2716.5  \n",
      "211      1  80301       Boulder       25581    340.4  \n",
      "225      1  11231      Brooklyn       37874  10286.4  \n",
      "265      1  19130  Philadelphia       27093   8082.5  \n",
      "287      1  20855       Derwood       15287    449.4  \n",
      "290      1  20816      Bethesda       16316   1802.9  \n",
      "329      1  60015     Deerfield       27529    784.0  \n",
      "366      1  19041     Haverford        6494    759.2  \n",
      "369      1  22310    Alexandria       32380   1743.5  \n",
      "416      1  22015         Burke       44523   2050.3  \n",
      "432      1  92105     San Diego       73623   5104.4  \n",
      "451      1  75206        Dallas       39010   3542.1  \n",
      "452      1  34743     Kissimmee       45109   2515.6  \n",
      "453      1  98208       Everett       58162   1388.7  \n",
      "455      1  10026      New York       38585  44827.6  \n",
      "478      1  77054       Houston       23267   1604.3  \n",
      "479      1  19038      Glenside       31415   1534.6  \n",
      "497      1  37042   Clarksville       77945    493.6  \n",
      "\n",
      "[31 rows x 34 columns]\n"
     ]
    }
   ],
   "source": [
    "print(df2.loc[df2.Worker==3])"
   ]
  },
  {
   "cell_type": "code",
   "execution_count": 48,
   "metadata": {},
   "outputs": [
    {
     "data": {
      "text/plain": [
       "18"
      ]
     },
     "execution_count": 48,
     "metadata": {},
     "output_type": "execute_result"
    }
   ],
   "source": [
    "len(df.loc[df.Transmode_after==1])"
   ]
  },
  {
   "cell_type": "code",
   "execution_count": null,
   "metadata": {},
   "outputs": [],
   "source": []
  }
 ],
 "metadata": {
  "kernelspec": {
   "display_name": "Python 3",
   "language": "python",
   "name": "python3"
  },
  "language_info": {
   "codemirror_mode": {
    "name": "ipython",
    "version": 3
   },
   "file_extension": ".py",
   "mimetype": "text/x-python",
   "name": "python",
   "nbconvert_exporter": "python",
   "pygments_lexer": "ipython3",
   "version": "3.7.4"
  }
 },
 "nbformat": 4,
 "nbformat_minor": 2
}
